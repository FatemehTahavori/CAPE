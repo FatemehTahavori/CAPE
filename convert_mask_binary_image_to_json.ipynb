{
  "nbformat": 4,
  "nbformat_minor": 0,
  "metadata": {
    "colab": {
      "name": "convert_mask_binary_image_to_json.ipynb",
      "provenance": [],
      "collapsed_sections": [],
      "authorship_tag": "ABX9TyOgZoSFahUW2SOL0Dy3fB2w",
      "include_colab_link": true
    },
    "kernelspec": {
      "name": "python3",
      "display_name": "Python 3"
    },
    "language_info": {
      "name": "python"
    }
  },
  "cells": [
    {
      "cell_type": "markdown",
      "metadata": {
        "id": "view-in-github",
        "colab_type": "text"
      },
      "source": [
        "<a href=\"https://colab.research.google.com/github/FatemehTahavori/CAPE/blob/master/convert_mask_binary_image_to_json.ipynb\" target=\"_parent\"><img src=\"https://colab.research.google.com/assets/colab-badge.svg\" alt=\"Open In Colab\"/></a>"
      ]
    },
    {
      "cell_type": "code",
      "execution_count": 12,
      "metadata": {
        "colab": {
          "base_uri": "https://localhost:8080/",
          "height": 392
        },
        "id": "X0YuTAtKy8wr",
        "outputId": "442bc7c4-74e0-4356-c360-7d0e5a9ab831"
      },
      "outputs": [
        {
          "output_type": "display_data",
          "data": {
            "text/plain": [
              "<Figure size 432x288 with 1 Axes>"
            ],
            "image/png": "[encoded data removed]"
          },
          "metadata": {
            "needs_background": "light"
          }
        },
        {
          "output_type": "execute_result",
          "data": {
            "text/plain": [
              "'{\\n    \"segmentation\": [\\n        [\\n            165.0,\\n            115.99803921568628,\\n            164.0,\\n            115.99803921568628,\\n            163.0,\\n            115.99803921568628,\\n            162.00196078431372,\\n            115.0,\\n            162.00196078431372,\\n            114.0,\\n            162.00196078431372,\\n            113.0,\\n            162.00196078431372,\\n            112.0,\\n            162.0,\\n            111.99803921568628,\\n            161.00196078431372,\\n            111.0,\\n            161.00196078431372,\\n            110.0,\\n            161.0,\\n            109.99803921568628,\\n            160.00196078431372,\\n            109.0,\\n            160.00196078431372,\\n            108.0,\\n            160.0,\\n            107.99803921568628,\\n            159.00196078431372,\\n            107.0,\\n            159.0,\\n            106.99803921568628,\\n            158.0,\\n            106.99803921568628,\\n            157.0,\\n            106.99803921568628,\\n            156.00196078431372,\\n            106.0,\\n            156.0,\\n            105.99803921568628,\\n            155.00196078431372,\\n            105.0,\\n            155.00196078431372,\\n            104.0,\\n            155.00196078431372,\\n            103.0,\\n            155.00196078431372,\\n            102.0,\\n            155.00196078431372,\\n            101.0,\\n            155.0,\\n            100.99803921568628,\\n            154.0,\\n            100.99803921568628,\\n            153.00196078431372,\\n            100.0,\\n            153.00196078431372,\\n            99.0,\\n            153.0,\\n            98.99803921568628,\\n            152.00196078431372,\\n            98.0,\\n            152.00196078431372,\\n            97.0,\\n            152.00196078431372,\\n            96.0,\\n            153.0,\\n            95.00196078431372,\\n            153.00196078431372,\\n            95.0,\\n            154.0,\\n            94.00196078431372,\\n            154.00196078431372,\\n            94.0,\\n            155.0,\\n            93.00196078431372,\\n            155.00196078431372,\\n            93.0,\\n            156.0,\\n            92.00196078431372,\\n            156.00196078431372,\\n            92.0,\\n            156.00196078431372,\\n            91.0,\\n            156.00196078431372,\\n            90.0,\\n            156.00196078431372,\\n            89.0,\\n            157.0,\\n            88.00196078431372,\\n            157.00196078431372,\\n            88.0,\\n            157.00196078431372,\\n            87.0,\\n            158.0,\\n            86.00196078431372,\\n            158.00196078431372,\\n            86.0,\\n            159.0,\\n            85.00196078431372,\\n            159.00196078431372,\\n            85.0,\\n            159.00196078431372,\\n            84.0,\\n            160.0,\\n            83.00196078431372,\\n            160.00196078431372,\\n            83.0,\\n            161.0,\\n            82.00196078431372,\\n            161.00196078431372,\\n            82.0,\\n            162.0,\\n            81.00196078431372,\\n            163.0,\\n            81.00196078431372,\\n            163.00196078431372,\\n            81.0,\\n            164.0,\\n            80.00196078431372,\\n            165.0,\\n            80.00196078431372,\\n            165.00196078431372,\\n            80.0,\\n            166.0,\\n            79.00196078431372,\\n            167.0,\\n            79.00196078431372,\\n            167.99803921568628,\\n            80.0,\\n            168.0,\\n            80.00196078431372,\\n            168.99803921568628,\\n            81.0,\\n            169.0,\\n            81.00196078431372,\\n            169.99803921568628,\\n            82.0,\\n            169.99803921568628,\\n            83.0,\\n            169.99803921568628,\\n            84.0,\\n            170.0,\\n            84.00196078431372,\\n            170.99803921568628,\\n            85.0,\\n            170.99803921568628,\\n            86.0,\\n            170.99803921568628,\\n            87.0,\\n            170.99803921568628,\\n            88.0,\\n            171.0,\\n            88.00196078431372,\\n            171.99803921568628,\\n            89.0,\\n            171.99803921568628,\\n            90.0,\\n            171.99803921568628,\\n            91.0,\\n            171.99803921568628,\\n            92.0,\\n            171.99803921568628,\\n            93.0,\\n            171.99803921568628,\\n            94.0,\\n            171.99803921568628,\\n            95.0,\\n            171.99803921568628,\\n            96.0,\\n            171.99803921568628,\\n            97.0,\\n            171.99803921568628,\\n            98.0,\\n            171.99803921568628,\\n            99.0,\\n            171.99803921568628,\\n            100.0,\\n            171.0,\\n            100.99803921568628,\\n            170.99803921568628,\\n            101.0,\\n            170.99803921568628,\\n            102.0,\\n            170.99803921568628,\\n            103.0,\\n            170.99803921568628,\\n            104.0,\\n            170.99803921568628,\\n            105.0,\\n            170.0,\\n            105.99803921568628,\\n            169.99803921568628,\\n            106.0,\\n            169.0,\\n            106.99803921568628,\\n            168.99803921568628,\\n            107.0,\\n            168.99803921568628,\\n            108.0,\\n            168.99803921568628,\\n            109.0,\\n            168.99803921568628,\\n            110.0,\\n            168.99803921568628,\\n            111.0,\\n            168.0,\\n            111.99803921568628,\\n            167.99803921568628,\\n            112.0,\\n            167.0,\\n            112.99803921568628,\\n            166.99803921568628,\\n            113.0,\\n            166.99803921568628,\\n            114.0,\\n            166.0,\\n            114.99803921568628,\\n            165.99803921568628,\\n            115.0,\\n            165.0,\\n            115.99803921568628\\n        ],\\n        [\\n            146.0,\\n            144.99803921568628,\\n            145.0,\\n            144.99803921568628,\\n            144.0,\\n            144.99803921568628,\\n            143.0,\\n            144.99803921568628,\\n            142.00196078431372,\\n            144.0,\\n            142.0,\\n            143.99803921568628,\\n            141.0,\\n            143.99803921568628,\\n            140.00196078431372,\\n            143.0,\\n            140.0,\\n            142.99803921568628,\\n            139.0,\\n            142.99803921568628,\\n            138.0,\\n            142.99803921568628,\\n            137.0,\\n            142.99803921568628,\\n            136.99803921568628,\\n            143.0,\\n            136.0,\\n            143.99803921568628,\\n            135.0,\\n            143.99803921568628,\\n            134.00196078431372,\\n            143.0,\\n            134.0,\\n            142.99803921568628,\\n            133.0,\\n            142.99803921568628,\\n            132.00196078431372,\\n            142.0,\\n            132.00196078431372,\\n            141.0,\\n            132.00196078431372,\\n            140.0,\\n            133.0,\\n            139.00196078431372,\\n            133.00196078431372,\\n            139.0,\\n            133.00196078431372,\\n            138.0,\\n            133.00196078431372,\\n            137.0,\\n            133.00196078431372,\\n            136.0,\\n            133.00196078431372,\\n            135.0,\\n            133.00196078431372,\\n            134.0,\\n            134.0,\\n            133.00196078431372,\\n            134.00196078431372,\\n            133.0,\\n            135.0,\\n            132.00196078431372,\\n            135.00196078431372,\\n            132.0,\\n            135.00196078431372,\\n            131.0,\\n            136.0,\\n            130.00196078431372,\\n            137.0,\\n            130.00196078431372,\\n            137.00196078431372,\\n            130.0,\\n            137.00196078431372,\\n            129.0,\\n            138.0,\\n            128.00196078431372,\\n            139.0,\\n            128.00196078431372,\\n            139.00196078431372,\\n            128.0,\\n            140.0,\\n            127.00196078431372,\\n            140.00196078431372,\\n            127.0,\\n            141.0,\\n            126.00196078431372,\\n            141.00196078431372,\\n            126.0,\\n            142.0,\\n            125.00196078431372,\\n            142.00196078431372,\\n            125.0,\\n            143.0,\\n            124.00196078431372,\\n            144.0,\\n            124.00196078431372,\\n            144.00196078431372,\\n            124.0,\\n            145.0,\\n            123.00196078431372,\\n            145.00196078431372,\\n            123.0,\\n            146.0,\\n            122.00196078431372,\\n            147.0,\\n            122.00196078431372,\\n            147.00196078431372,\\n            122.0,\\n            148.0,\\n            121.00196078431372,\\n            148.00196078431372,\\n            121.0,\\n            149.0,\\n            120.00196078431372,\\n            150.0,\\n            120.00196078431372,\\n            151.0,\\n            120.00196078431372,\\n            152.0,\\n            120.00196078431372,\\n            153.0,\\n            120.00196078431372,\\n            153.00196078431372,\\n            120.0,\\n            154.0,\\n            119.00196078431372,\\n            155.0,\\n            119.00196078431372,\\n            155.00196078431372,\\n            119.0,\\n            156.0,\\n            118.00196078431372,\\n            156.99803921568628,\\n            119.0,\\n            156.99803921568628,\\n            120.0,\\n            157.0,\\n            120.00196078431372,\\n            158.0,\\n            120.00196078431372,\\n            158.99803921568628,\\n            121.0,\\n            159.0,\\n            121.00196078431372,\\n            159.00196078431372,\\n            121.0,\\n            159.00196078431372,\\n            120.0,\\n            160.0,\\n            119.00196078431372,\\n            160.00196078431372,\\n            119.0,\\n            161.0,\\n            118.00196078431372,\\n            161.99803921568628,\\n            119.0,\\n            162.0,\\n            119.00196078431372,\\n            162.99803921568628,\\n            120.0,\\n            162.99803921568628,\\n            121.0,\\n            162.99803921568628,\\n            122.0,\\n            162.0,\\n            122.99803921568628,\\n            161.99803921568628,\\n            123.0,\\n            161.99803921568628,\\n            124.0,\\n            161.0,\\n            124.99803921568628,\\n            160.99803921568628,\\n            125.0,\\n            160.99803921568628,\\n            126.0,\\n            160.0,\\n            126.99803921568628,\\n            159.99803921568628,\\n            127.0,\\n            159.99803921568628,\\n            128.0,\\n            159.0,\\n            128.99803921568628,\\n            158.99803921568628,\\n            129.0,\\n            158.99803921568628,\\n            130.0,\\n            158.99803921568628,\\n            131.0,\\n            158.0,\\n            131.99803921568628,\\n            157.99803921568628,\\n            132.0,\\n            157.99803921568628,\\n            133.0,\\n            157.99803921568628,\\n            134.0,\\n            157.0,\\n            134.99803921568628,\\n            156.99803921568628,\\n            135.0,\\n            156.99803921568628,\\n            136.0,\\n            156.99803921568628,\\n            137.0,\\n            156.99803921568628,\\n            138.0,\\n            156.99803921568628,\\n            139.0,\\n            156.0,\\n            139.99803921568628,\\n            155.99803921568628,\\n            140.0,\\n            155.0,\\n            140.99803921568628,\\n            154.99803921568628,\\n            141.0,\\n            154.0,\\n            141.99803921568628,\\n            153.99803921568628,\\n            142.0,\\n            153.99803921568628,\\n            143.0,\\n            153.0,\\n            143.99803921568628,\\n            152.0,\\n            143.99803921568628,\\n            151.0,\\n            143.99803921568628,\\n            150.0,\\n            143.99803921568628,\\n            149.0,\\n            143.99803921568628,\\n            148.0,\\n            143.99803921568628,\\n            147.0,\\n            143.99803921568628,\\n            146.99803921568628,\\n            144.0,\\n            146.0,\\n            144.99803921568628\\n        ]\\n    ],\\n    \"area\": 909,\\n    \"iscrowd\": 0,\\n    \"image_id\": 123,\\n    \"bbox\": [\\n        133.0,\\n        80.0,\\n        39.0,\\n        65.0\\n    ],\\n    \"category_id\": 1,\\n    \"id\": 1\\n}'"
            ],
            "application/vnd.google.colaboratory.intrinsic+json": {
              "type": "string"
            }
          },
          "metadata": {},
          "execution_count": 12
        }
      ],
      "source": [
        "import json\n",
        "import numpy as np\n",
        "from pycocotools import mask\n",
        "from skimage import measure\n",
        "import matplotlib.pyplot as plt\n",
        "import datetime\n",
        "import cv2  \n",
        "\n",
        "now = datetime.datetime.now()\n",
        "\n",
        "\n",
        "ground_truth_binary_mask = cv2.imread(\"/content/l (19).png\", 0)\n",
        "# plt.imshow(ground_truth_binary_mask)\n",
        "\n",
        "\n",
        "fortran_ground_truth_binary_mask = np.asfortranarray(ground_truth_binary_mask)\n",
        "encoded_ground_truth = mask.encode(fortran_ground_truth_binary_mask)\n",
        "\n",
        "\n",
        "ground_truth_area = mask.area(encoded_ground_truth)\n",
        "ground_truth_bounding_box = mask.toBbox(encoded_ground_truth)\n",
        "contours = measure.find_contours(ground_truth_binary_mask, 0.5)\n",
        "\n",
        "# print(np.shape(contours))\n",
        "# print(contours)\n",
        "\n",
        "info = {\n",
        "        \"year\": \"2022\",\n",
        "        \"version\": \"1\",\n",
        "        \"description\": \"\",\n",
        "        \"contributor\": \"\",\n",
        "        \"url\": \"\",\n",
        "        \"date_created\": now.strftime(\"%Y-%m-%d %H:%M:%S\")\n",
        "    }\n",
        "licenses = [\n",
        "        {\n",
        "            \"id\": 1,\n",
        "            \"url\": \"\",\n",
        "            \"name\": \"Unknown\"\n",
        "        }\n",
        "    ]\n",
        "\n",
        "\n",
        "annotation = {\n",
        "        \"segmentation\": [],\n",
        "        \"area\": ground_truth_area.tolist(),\n",
        "        \"iscrowd\": 0,\n",
        "        \"image_id\": 123,\n",
        "        \"bbox\": ground_truth_bounding_box.tolist(),\n",
        "        \"category_id\": 1,\n",
        "        \"id\": 1\n",
        "    }\n",
        "\n",
        "plt.imshow(ground_truth_binary_mask)\n",
        "for contour in contours:\n",
        "    contour = np.flip(contour, axis=1)\n",
        "    plt.scatter(x=contour[:,0], y=contour[:,1], c='r', s=1)\n",
        "    segmentation = contour.ravel().tolist()\n",
        "    annotation[\"segmentation\"].append(segmentation)\n",
        "    \n",
        "plt.show()\n",
        "# print(json.dumps(annotation, indent=4))\n",
        "json.dumps(annotation, indent=4)"
      ]
    },
    {
      "cell_type": "code",
      "source": [
        "import os\n",
        "import glob\n",
        "path = \"/home/fatemeh/Desktop/pre_process_data/val/descending_aorta/*\"\n",
        "\n",
        "for file in glob.glob(path):\n",
        "    names = str(file).split('/')[-1]\n",
        "    folderName = os.path.basename(os.path.dirname(file))\n",
        "    os.rename(file, f\"{folderName} _ {names}\")\n"
      ],
      "metadata": {
        "colab": {
          "base_uri": "https://localhost:8080/"
        },
        "id": "GXOdpS8vwYMW",
        "outputId": "0cfd414c-eea7-46e8-e922-89eea92bd08c"
      },
      "execution_count": 33,
      "outputs": [
        {
          "output_type": "stream",
          "name": "stdout",
          "text": [
            "A0_jpg.rf.85d6d50444ff5baea428fb3c275a9349.jpg\n",
            "A21_jpg.rf.800306a22fbf1c02cbf117625980a74b.jpg\n",
            "A12_jpg.rf.8deaf8a00dd0de4750cbfc09e60e0936.jpg\n"
          ]
        }
      ]
    },
    {
      "cell_type": "code",
      "source": [
        "import json\n",
        "import numpy as np\n",
        "\n",
        "\n",
        "with open('/content/_annotations.coco.json') as json_file:\n",
        "    data = json.load(json_file)\n",
        "    print(data.keys())\n",
        "    print(np.shape(data['categories']))\n",
        "    # print(data['licenses'])\n",
        "    print(len(data['annotations']))\n",
        "    print(data['annotations'][26])"
      ],
      "metadata": {
        "colab": {
          "base_uri": "https://localhost:8080/"
        },
        "id": "fgASN0lNNt5H",
        "outputId": "d679352b-fc93-4be3-8de7-89839c509999"
      },
      "execution_count": 7,
      "outputs": [
        {
          "output_type": "stream",
          "name": "stdout",
          "text": [
            "dict_keys(['info', 'licenses', 'categories', 'images', 'annotations'])\n",
            "(27,)\n",
            "68\n",
            "{'id': 26, 'image_id': 25, 'category_id': 1, 'bbox': [59, 132, 265.156592, 167.71523399999998], 'area': 44470.79987392252, 'segmentation': [[289.859855, 171.399458, 282.378238, 156.383317, 274.166157, 143.455233, 261.61313, 137.767118, 249.63128, 137.660843, 238.347714, 140.444517, 229.244275, 137.024402, 218.580155, 132.315706, 208.67385, 134.811955, 199.850369, 139.407131, 187.895871, 141.039898, 176.869737, 136.394, 167.27235, 136.299802, 157.802071, 136.931412, 138.311252, 138.581086, 132.266426, 144.249879, 124.289253, 145.674927, 115.552655, 142.322441, 105.067128, 143.699182, 88.387144, 150.82563, 80.787678, 151.899528, 71.741483, 168.207743, 59.265066, 183.939098, 67.637909, 199.83716, 81.813572, 226.298648, 107.919214, 246.102426, 143.564609, 262.000489, 171.415327, 276.975045, 189.82148, 285.887274, 206.930282, 300.03094, 324.421658, 246.578733, 308.182577, 239.523998, 300.221493, 228.388093, 301.507044, 214.353786, 297.994706, 194.151919, 289.859855, 171.399458]], 'iscrowd': 0}\n"
          ]
        }
      ]
    },
    {
      "cell_type": "code",
      "source": [
        "\n"
      ],
      "metadata": {
        "colab": {
          "base_uri": "https://localhost:8080/",
          "height": 130
        },
        "id": "nRZVrriTeMQ3",
        "outputId": "68bc463b-495d-4c8b-fff5-db6e61bb21d7"
      },
      "execution_count": 40,
      "outputs": [
        {
          "output_type": "error",
          "ename": "SyntaxError",
          "evalue": "ignored",
          "traceback": [
            "\u001b[0;36m  File \u001b[0;32m\"<ipython-input-40-c91957cac210>\"\u001b[0;36m, line \u001b[0;32m8\u001b[0m\n\u001b[0;31m    d['image_id'] =\u001b[0m\n\u001b[0m                    ^\u001b[0m\n\u001b[0;31mSyntaxError\u001b[0m\u001b[0;31m:\u001b[0m invalid syntax\n"
          ]
        }
      ]
    },
    {
      "cell_type": "code",
      "source": [
        "import os\n",
        "\n",
        "folder = '/media/sf_sharedFolder/cardiovascular_structures_segmentation_prepared/'\n",
        "\n",
        "sub_folders = [name for name in os.listdir(folder) if os.path.isdir(os.path.join(folder, name))]\n",
        "\n",
        "print(sub_folders)"
      ],
      "metadata": {
        "id": "Edv_7HSdm7AZ"
      },
      "execution_count": null,
      "outputs": []
    },
    {
      "cell_type": "code",
      "source": [
        "import cv2\n",
        "import os\n",
        "import matplotlib.pyplot as plt\n",
        "import datetime\n",
        "\n",
        "folder = '/content/sample_data/images'\n",
        "arr_images = os.listdir(folder)\n",
        "now = datetime.datetime.now()\n",
        "\n",
        "\n",
        "def images_dict(id, file_name):\n",
        "     height, width = cv2.imread(os.path.join(folder, file_name)).shape[:2]\n",
        "     d = dict();\n",
        "     d['id'] = id\n",
        "     d['license']   = 1\n",
        "     d['file_name']   = file_name\n",
        "     d['height'] = height \n",
        "     d['width'] = width\n",
        "     d['date_captured']   = now.isoformat()\n",
        "\n",
        "     return d\n",
        "\n",
        "\n",
        "images = [images_dict(id, file_name) for id, file_name in enumerate(arr_images)]\n",
        "\n",
        "\n",
        "# print(category_dict(0, \"coronary_sinus\"))\n",
        "print(images)"
      ],
      "metadata": {
        "colab": {
          "base_uri": "https://localhost:8080/"
        },
        "id": "bE1XCBnVoxBK",
        "outputId": "0f0812c9-fbda-4f5a-aa65-c4b1f1bc207e"
      },
      "execution_count": 39,
      "outputs": [
        {
          "output_type": "stream",
          "name": "stdout",
          "text": [
            "[{'id': 0, 'license': 1, 'file_name': 'A0_jpg.rf.85d6d50444ff5baea428fb3c275a9349.jpg', 'height': 416, 'width': 416, 'date_captured': '2022-07-13T11:50:34.707596'}, {'id': 1, 'license': 1, 'file_name': 'A21_jpg.rf.800306a22fbf1c02cbf117625980a74b.jpg', 'height': 416, 'width': 416, 'date_captured': '2022-07-13T11:50:34.707596'}, {'id': 2, 'license': 1, 'file_name': 'A12_jpg.rf.8deaf8a00dd0de4750cbfc09e60e0936.jpg', 'height': 416, 'width': 416, 'date_captured': '2022-07-13T11:50:34.707596'}]\n"
          ]
        }
      ]
    },
    {
      "cell_type": "code",
      "source": [
        "import json\n",
        "import numpy as np\n",
        "from pycocotools import mask\n",
        "from skimage import measure\n",
        "import matplotlib.pyplot as plt\n",
        "import datetime\n",
        "import cv2  \n",
        "\n",
        "\n",
        "def images_dict(id, file_name):\n",
        "     height, width = cv2.imread(os.path.join(folder, file_name)).shape[:2]\n",
        "     d = dict();\n",
        "     d['id'] = id\n",
        "     d['license']   = 1\n",
        "     d['file_name']   = file_name\n",
        "     d['height'] = height \n",
        "     d['width'] = width\n",
        "     d['date_captured']   = now.isoformat()\n",
        "\n",
        "     return d"
      ],
      "metadata": {
        "id": "KUCQplywgfTw"
      },
      "execution_count": null,
      "outputs": []
    },
    {
      "cell_type": "code",
      "source": [
        "import json\n",
        "import numpy as np\n",
        "from pycocotools import mask\n",
        "from skimage import measure\n",
        "import matplotlib.pyplot as plt\n",
        "import datetime\n",
        "import cv2\n",
        "\n",
        "folder = '/content/sample_data/images'\n",
        "arr_images = os.listdir(folder)\n",
        "\n",
        "def annotations_dict(id, file_name):\n",
        "\n",
        "     ground_truth_binary_mask = cv2.imread(os.path.join(folder, file_name), 0)\n",
        "     fortran_ground_truth_binary_mask = np.asfortranarray(ground_truth_binary_mask)\n",
        "     encoded_ground_truth = mask.encode(fortran_ground_truth_binary_mask)\n",
        "\n",
        "\n",
        "     ground_truth_area = mask.area(encoded_ground_truth)\n",
        "     ground_truth_bounding_box = mask.toBbox(encoded_ground_truth)\n",
        "     contours = measure.find_contours(ground_truth_binary_mask, 0.5)\n",
        "\n",
        "     d = dict();\n",
        "     d['id'] = id,\n",
        "     d['image_id'] = id,\n",
        "     d['category_id'] = ,\n",
        "     d['bbox'] = ground_truth_bounding_box.tolist(),\n",
        "     d['area'] = ground_truth_area.tolist(),\n",
        "     d['segmentation'] = [],\n",
        "     d['iscrowd'] = 0,\n",
        "\n",
        "     for contour in contours:\n",
        "       contour = np.flip(contour, axis=1)\n",
        "       plt.scatter(x=contour[:,0], y=contour[:,1], c='r', s=1)\n",
        "       segmentation = contour.ravel().tolist()\n",
        "       d['segmentation'].append(segmentation)\n",
        "\n",
        "     return d\n",
        "\n",
        "annotations = [annotations_dict(id, name) for id, name in enumerate(names)]\n",
        "\n",
        "print(categories)\n"
      ],
      "metadata": {
        "id": "sBcQDTp3nWt1"
      },
      "execution_count": null,
      "outputs": []
    }
  ]
}